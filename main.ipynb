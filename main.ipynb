{
 "cells": [
  {
   "cell_type": "code",
   "execution_count": null,
   "metadata": {
    "collapsed": false
   },
   "outputs": [],
   "source": [
    "import pytumblr\n",
    "import urllib\n",
    "import requests\n",
    "import time\n",
    "\n",
    "#initialize parameters\n",
    "client = pytumblr.TumblrRestClient(\n",
    "  'phitYQG0biHZxl2Nd4BtNztj3xg6CN46iHuoeig7Vq246CTmdv',\n",
    "  'YevBIBU6b03ydXOUbEbNsqwLnJErJNCIfXbzexuHggWowK0ody',\n",
    "  'esmgxaW75bXZG4l4nxso8lwNr06zhMmvDR0MXMCyjQSgDtvBEw',\n",
    "  'OrszMDh4J4qSqbP18e5NPz6xnWwrNNU6Bcs6mRLwoLSkU7O3Rb'\n",
    ")\n",
    "\n",
    "token = 'b9ba254626a6de4540e8c3b59aba0ddb5ff87aabb38d98d5c4fb3a1dcac440ae4ea35827db7d91fd8b630'\n",
    "gid = '62148300'\n",
    "album = '183278429'\n",
    "#v = '5.21'\n",
    "\n",
    "def post_to_vk(token, gid, album, pic):\n",
    "    #get upload server url\n",
    "    server_url = 'https://api.vk.com/method/photos.getWallUploadServer?group_id=' + gid + \\\n",
    "                 '&album_id=' + album + \\\n",
    "                 '&access_token=' + token\n",
    "\n",
    "    r = requests.get(server_url)\n",
    "    upload_url = r.json()['response']['upload_url']\n",
    "\n",
    "    #upload image\n",
    "    file1 = {'file': open(pic, 'rb')}\n",
    "    p = requests.post(upload_url, files=file1)\n",
    "\n",
    "    #save image to album\n",
    "    save_url = 'https://api.vk.com/method/photos.saveWallPhoto?gid=' + gid + \\\n",
    "               '&photo=' + p.json()['photo'] + \\\n",
    "               '&server=' + str(p.json()['server']) + \\\n",
    "               '&hash=' + p.json()['hash'] + \\\n",
    "               '&access_token=' + token\n",
    "\n",
    "    save_request = requests.get(save_url)\n",
    "\n",
    "    #post image\n",
    "    post_url = 'https://api.vk.com/method/wall.post?owner_id=-' + gid + \\\n",
    "               '&from_group=' + '1' + \\\n",
    "               '&attachments=' + save_request.json()['response'][0]['id'] + \\\n",
    "               '&access_token=' + token\n",
    "\n",
    "    requests.get(post_url)\n",
    "    return\n",
    "\n",
    "\n",
    "count = 0\n",
    "while True:\n",
    "    delta = len(client.posts('hotpizzanews')['posts']) - count\n",
    "    if delta > 0:\n",
    "        for i in range(0, delta):\n",
    "            pic_url = client.posts('hotpizzanews')['posts'][i]['photos'][0]['original_size']['url']\n",
    "            filename = pic_url.split('/')[-1]\n",
    "            urllib.urlretrieve(pic_url, filename)\n",
    "            post_to_vk(token, gid, album, filename)\n",
    "        count += delta\n",
    "    time.sleep(60)"
   ]
  },
  {
   "cell_type": "code",
   "execution_count": null,
   "metadata": {
    "collapsed": true
   },
   "outputs": [],
   "source": []
  }
 ],
 "metadata": {
  "kernelspec": {
   "display_name": "Python 2",
   "language": "python",
   "name": "python2"
  },
  "language_info": {
   "codemirror_mode": {
    "name": "ipython",
    "version": 2
   },
   "file_extension": ".py",
   "mimetype": "text/x-python",
   "name": "python",
   "nbconvert_exporter": "python",
   "pygments_lexer": "ipython2",
   "version": "2.7.10"
  }
 },
 "nbformat": 4,
 "nbformat_minor": 0
}
